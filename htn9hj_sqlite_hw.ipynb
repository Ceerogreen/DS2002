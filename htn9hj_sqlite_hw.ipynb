{
 "cells": [
  {
   "cell_type": "code",
   "execution_count": null,
   "id": "79218588-63a3-4eab-9517-3da01164eb0e",
   "metadata": {},
   "outputs": [],
   "source": [
    "# import sqlite3 and create a connection with a cursor\n",
    "import sqlite3\n",
    "connection = sqlite3.connect('student_grades.db')\n",
    "cursor = connection.cursor()"
   ]
  },
  {
   "cell_type": "code",
   "execution_count": null,
   "id": "b91b3264-70c2-4cc5-bddb-e3cffec920fd",
   "metadata": {},
   "outputs": [],
   "source": [
    "# Create students table\n",
    "cursor.execute('''\n",
    "CREATE TABLE IF NOT EXISTS students (\n",
    "    student_id INTEGER PRIMARY KEY AUTOINCREMENT,\n",
    "    first_name TEXT,\n",
    "    last_name TEXT\n",
    ")\n",
    "''')\n",
    "# Create grades table\n",
    "cursor.execute('''\n",
    "CREATE TABLE IF NOT EXISTS grades (\n",
    "    grade_id INTEGER PRIMARY KEY AUTOINCREMENT,\n",
    "    student_id,\n",
    "    subject TEXT,\n",
    "    grade INTEGER,\n",
    "    FOREIGN KEY (student_id) REFERENCES students(student_id)\n",
    ")\n",
    "''')\n"
   ]
  },
  {
   "cell_type": "code",
   "execution_count": null,
   "id": "ddd49d63-443e-474d-b8a7-d9cb87f447cf",
   "metadata": {},
   "outputs": [],
   "source": [
    "# Create data for Students\n",
    "\n",
    "student_data = [('Alice','Johnson'),\n",
    "                ('Bob', 'Smith'),\n",
    "                ('Carol','White'),\n",
    "                ('David','Brown'),\n",
    "                ('Eve','Davis')]\n",
    "\n",
    "# Create data for Grades\n",
    "\n",
    "grade_data = [(1,'Math',90),\n",
    "              (1,'English',85),\n",
    "              (1,'Science',95),\n",
    "              (2,'Math',88),\n",
    "              (2,'English',84),\n",
    "              (2,'Science',98),\n",
    "              (3,'Math',98),\n",
    "              (3,'English',82),\n",
    "              (3,'Science',99),\n",
    "              (4,'Math',77),\n",
    "              (4,'English',82),\n",
    "              (4,'Science',80),\n",
    "              (5,'Math',89),\n",
    "              (5,'English',75),\n",
    "              (5,'Science',98)]\n",
    "\n",
    "# Empty Students and add data\n",
    "cursor.execute(\"DELETE FROM students\")\n",
    "connection.commit()\n",
    "cursor.executemany('''\n",
    "INSERT INTO students (first_name,last_name) VALUES (?, ?)\n",
    "''', student_data)\n",
    "connection.commit()\n",
    "\n",
    "# Empty Grades and add data\n",
    "cursor.execute(\"DELETE FROM grades\")\n",
    "connection.commit()\n",
    "cursor.executemany('''\n",
    "INSERT INTO grades (student_id,subject,grade) VALUES (?, ?, ?)\n",
    "''', grade_data)\n",
    "connection.commit()"
   ]
  },
  {
   "cell_type": "code",
   "execution_count": null,
   "id": "c1d9d50c-5b34-442e-9432-86482a636fbd",
   "metadata": {},
   "outputs": [],
   "source": [
    "# Retrieve all students names and grades\n",
    "cursor.execute('''\n",
    "SELECT students.first_name, students.last_name, grades.student_id, grades.subject, grades.grade\n",
    "FROM students\n",
    "JOIN grades ON students.student_id = grades.student_id\n",
    "''')\n",
    "joineddata = cursor.fetchall()\n",
    "\n",
    "for row in joineddata:\n",
    "    print(row)"
   ]
  },
  {
   "cell_type": "code",
   "execution_count": null,
   "id": "c696aa91-73c3-441d-8a2c-a105e32404bd",
   "metadata": {},
   "outputs": [],
   "source": [
    "# Average grade by student\n",
    "cursor.execute('''\n",
    "SELECT students.first_name, students.last_name, AVG(grades.grade)\n",
    "FROM students\n",
    "JOIN grades ON students.student_id = grades.student_id\n",
    "GROUP BY students.student_id\n",
    "''')\n",
    "avg_grades = cursor.fetchall()\n",
    "\n",
    "for row in avg_grades:\n",
    "    print(row)"
   ]
  },
  {
   "cell_type": "code",
   "execution_count": null,
   "id": "e090b063-a03e-4ba5-92ae-132ad52de1c5",
   "metadata": {},
   "outputs": [],
   "source": [
    "# Average grade by student\n",
    "cursor.execute('''\n",
    "SELECT students.first_name, students.last_name, AVG(grades.grade)\n",
    "FROM students\n",
    "JOIN grades ON students.student_id = grades.student_id\n",
    "GROUP BY students.student_id\n",
    "ORDER BY AVG(grades.grade) desc\n",
    "''')\n",
    "avg_grades = cursor.fetchone()\n",
    "\n",
    "print(str(avg_grades[0]) + ' ' + str(avg_grades[1]) + ' has the highest grade average')"
   ]
  },
  {
   "cell_type": "code",
   "execution_count": null,
   "id": "7eb81ff7-58e0-47f9-b53a-1d825c98db61",
   "metadata": {},
   "outputs": [],
   "source": [
    "# Math average\n",
    "cursor.execute('''\n",
    "SELECT grades.subject, AVG(grades.grade)\n",
    "FROM grades\n",
    "WHERE grades.subject = 'Math'\n",
    "''')\n",
    "math_avg = cursor.fetchone()\n",
    "\n",
    "print(math_avg[1])"
   ]
  },
  {
   "cell_type": "code",
   "execution_count": null,
   "id": "e28a34d9-ffc3-4f83-b1f2-f2fe70722ecf",
   "metadata": {},
   "outputs": [],
   "source": [
    "# Distinct Individuals with a grade above 90\n",
    "cursor.execute('''\n",
    "SELECT DISTINCT students.first_name, students.last_name\n",
    "FROM students\n",
    "JOIN grades ON students.student_id = grades.student_id\n",
    "WHERE grades.grade > 90\n",
    "''')\n",
    "\n",
    "above_90 = cursor.fetchall()\n",
    "\n",
    "for row in above_90:\n",
    "    print(row)"
   ]
  },
  {
   "cell_type": "code",
   "execution_count": null,
   "id": "d16d3776-25eb-48f9-8a59-105387ed2951",
   "metadata": {},
   "outputs": [],
   "source": [
    "# import pandas and get dataframe\n",
    "\n",
    "import pandas as pd\n",
    "\n",
    "students = pd.read_sql_query('SELECT * FROM students', connection)\n",
    "grades = pd.read_sql_query('SELECT * FROM grades', connection)"
   ]
  },
  {
   "cell_type": "code",
   "execution_count": null,
   "id": "f37489e3-47d0-412d-83f0-0f848f9aa3d8",
   "metadata": {},
   "outputs": [],
   "source": [
    "# join dataframes\n",
    "\n",
    "joined_db = pd.merge(students,grades,how='inner',on='student_id')\n",
    "joined_db.head()"
   ]
  },
  {
   "cell_type": "code",
   "execution_count": null,
   "id": "552c2b77-10fc-49fa-8af7-d6956a3127fe",
   "metadata": {},
   "outputs": [],
   "source": [
    "# import matplotlib\n",
    "joined_db['name'] = joined_db['first_name'] + ' ' + joined_db['last_name']\n",
    "\n",
    "mean_grades = joined_db[['name','grade']].groupby('name').mean()\n",
    "\n",
    "import matplotlib.pyplot as plt\n",
    "plt.figure(figsize=(10,6))\n",
    "plt.bar(mean_grades.index,mean_grades['grade'])\n",
    "plt.xlabel('Student')\n",
    "plt.ylabel('Average Grade')\n",
    "plt.title('Average Grade by Student')\n",
    "plt.show()\n",
    "\n",
    "mean_subjects = joined_db[['subject','grade']].groupby('subject').mean()\n",
    "\n",
    "plt.bar(mean_subjects.index,mean_subjects['grade'])\n",
    "plt.xlabel('Subject')\n",
    "plt.ylabel('Average Grade')\n",
    "plt.title('Average Grade by Subject')\n",
    "plt.show()"
   ]
  },
  {
   "cell_type": "code",
   "execution_count": null,
   "id": "8285cddb-74d1-4ae5-8b64-d62f065f6ef0",
   "metadata": {},
   "outputs": [],
   "source": []
  }
 ],
 "metadata": {
  "kernelspec": {
   "display_name": "Python 3 (ipykernel)",
   "language": "python",
   "name": "python3"
  },
  "language_info": {
   "codemirror_mode": {
    "name": "ipython",
    "version": 3
   },
   "file_extension": ".py",
   "mimetype": "text/x-python",
   "name": "python",
   "nbconvert_exporter": "python",
   "pygments_lexer": "ipython3",
   "version": "3.12.4"
  }
 },
 "nbformat": 4,
 "nbformat_minor": 5
}
